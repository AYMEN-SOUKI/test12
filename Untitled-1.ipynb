{
 "cells": [
  {
   "cell_type": "code",
   "execution_count": null,
   "metadata": {},
   "outputs": [],
   "source": [
    "<!DOCTYPE html>\n",
    "<html>\n",
    "  <head>  \n",
    "\t\t<title> Hello world ! </title>\n",
    "    </head>\n",
    "    \n",
    "    <body>\n",
    "      <h1> This is my first ddddd ! </h1>\n",
    "\t\t\t<!-- this is a comment -->\n",
    "  </body>\n",
    "</html>"
   ]
  }
 ],
 "metadata": {
  "language_info": {
   "name": "python"
  },
  "orig_nbformat": 4
 },
 "nbformat": 4,
 "nbformat_minor": 2
}
